{
  "nbformat": 4,
  "nbformat_minor": 0,
  "metadata": {
    "colab": {
      "provenance": []
    },
    "kernelspec": {
      "name": "python3",
      "display_name": "Python 3"
    },
    "language_info": {
      "name": "python"
    }
  },
  "cells": [
    {
      "cell_type": "code",
      "execution_count": 14,
      "metadata": {
        "id": "rrk0sUmMF7uk"
      },
      "outputs": [],
      "source": [
        "import numpy as np\n",
        "import pandas as pd\n",
        "from sklearn.model_selection import train_test_split\n",
        "from PIL import Image\n",
        "import os\n",
        "import string\n",
        "import matplotlib.pyplot as plt\n",
        "\n"
      ]
    },
    {
      "cell_type": "code",
      "source": [
        "##we need to switch up the training set\n",
        "\n",
        "train=pd.read_csv('/content/drive/MyDrive/Datasets/sign_mnist_train.csv')\n",
        "\n",
        "test=pd.read_csv('/content/drive/MyDrive/Datasets/sign_mnist_test.csv')\n"
      ],
      "metadata": {
        "id": "yBm0tnoJjjYQ"
      },
      "execution_count": 2,
      "outputs": []
    },
    {
      "cell_type": "code",
      "source": [
        "##getting the training data and training labels\n",
        "\n",
        "##we one hot encoded the labels\n",
        "\n",
        "def load_data(path):\n",
        "    df = pd.read_csv(path)\n",
        "    y = np.array([label if label < 9\n",
        "                  else label-1 for label in df['label']])\n",
        "    df = df.drop('label', axis=1)\n",
        "    x = np.array([df.iloc[i].to_numpy().reshape((28, 28))\n",
        "                  for i in range(len(df))]).astype(float)\n",
        "    x = np.expand_dims(x, axis=3)\n",
        "    y = pd.get_dummies(y).values\n",
        "\n",
        "    return x, y\n",
        "\n",
        "X_train, Y_train = load_data('/content/drive/MyDrive/Datasets/sign_mnist_train.csv')\n",
        "X_test, Y_test = load_data('/content/drive/MyDrive/Datasets/sign_mnist_test.csv')"
      ],
      "metadata": {
        "id": "4KAi7sdhEEq3"
      },
      "execution_count": 15,
      "outputs": []
    },
    {
      "cell_type": "code",
      "source": [
        "X_train[0].shape"
      ],
      "metadata": {
        "colab": {
          "base_uri": "https://localhost:8080/"
        },
        "id": "O0ma_I1HKT9R",
        "outputId": "346e8896-be6d-4fc6-c5ca-2c9ba8bdb6a0"
      },
      "execution_count": 4,
      "outputs": [
        {
          "output_type": "execute_result",
          "data": {
            "text/plain": [
              "(28, 28, 1)"
            ]
          },
          "metadata": {},
          "execution_count": 4
        }
      ]
    },
    {
      "cell_type": "code",
      "source": [
        "train_labels=train.loc[:,\"label\"]\n",
        "test_labels=test.loc[:,'label']\n",
        "\n",
        "train=train.drop(labels='label',axis=1).to_numpy()\n",
        "test=test.drop(labels='label',axis=1).to_numpy()\n",
        "\n"
      ],
      "metadata": {
        "id": "m023d8xqIaYi"
      },
      "execution_count": 5,
      "outputs": []
    },
    {
      "cell_type": "code",
      "source": [
        "##reshaping training andtesting arrays\n",
        "\n",
        "def shape(example):\n",
        "  return example.reshape(28,28,1)\n",
        "\n",
        "train=np.array(list(map(shape,train)))\n",
        "test=np.array(list(map(shape,test)))\n"
      ],
      "metadata": {
        "id": "nEpoIAtvMU5I"
      },
      "execution_count": 6,
      "outputs": []
    },
    {
      "cell_type": "code",
      "source": [
        "Y_train.shape, train_encoded.shape"
      ],
      "metadata": {
        "colab": {
          "base_uri": "https://localhost:8080/"
        },
        "id": "fAJq00QGOyJk",
        "outputId": "86b8bda7-2c8b-4f95-c8fa-4dae82d99883"
      },
      "execution_count": 38,
      "outputs": [
        {
          "output_type": "execute_result",
          "data": {
            "text/plain": [
              "((27455, 24), (27455, 25))"
            ]
          },
          "metadata": {},
          "execution_count": 38
        }
      ]
    },
    {
      "cell_type": "code",
      "source": [
        "##one hot endocidn the training and testing_labels\n",
        "\n",
        "train_encoded = np.zeros((train_labels.size, train_labels.max() + 1))\n",
        "train_encoded[np.arange(train_labels.size), train_labels] = 1\n",
        "\n",
        "test_encoded = np.zeros((test_labels.size, test_labels.max() + 1))\n",
        "test_encoded[np.arange(test_labels.size), test_labels] = 1"
      ],
      "metadata": {
        "id": "OmHB0EzFELG-"
      },
      "execution_count": 7,
      "outputs": []
    },
    {
      "cell_type": "code",
      "source": [
        "##time to build the model\n",
        "\n",
        "##labelst ot unint8 and training to float65\n",
        "\n",
        "train=train.astype(np.float64)\n",
        "test=test.astype(np.float64)\n",
        "\n",
        "test_encoded=test_encoded.astype(np.uint8)\n",
        "train_encoded=train_encoded.astype(np.uint8)"
      ],
      "metadata": {
        "id": "lPlSob04O6Vs"
      },
      "execution_count": 31,
      "outputs": []
    },
    {
      "cell_type": "code",
      "source": [
        "##creating the neural network\n",
        "import tensorflow as tf\n",
        "import keras\n",
        "\n",
        "\n",
        "model = tf.keras.models.Sequential([\n",
        "    tf.keras.layers.Conv2D(filters=32,\n",
        "                           kernel_size=(3, 3),\n",
        "                           activation='relu',\n",
        "                           input_shape=(28, 28, 1)),\n",
        "    tf.keras.layers.MaxPooling2D(2, 2),\n",
        "\n",
        "    tf.keras.layers.Conv2D(filters=64,\n",
        "                           kernel_size=(3, 3),\n",
        "                           activation='relu'),\n",
        "    tf.keras.layers.MaxPooling2D(2, 2),\n",
        "\n",
        "    tf.keras.layers.Flatten(),\n",
        "    tf.keras.layers.BatchNormalization(),\n",
        "    tf.keras.layers.Dense(256, activation='relu'),\n",
        "    tf.keras.layers.Dropout(0.3),\n",
        "    tf.keras.layers.BatchNormalization(),\n",
        "    tf.keras.layers.Dense(25, activation='softmax')\n",
        "])"
      ],
      "metadata": {
        "id": "8xVP_M9JsCU8"
      },
      "execution_count": 107,
      "outputs": []
    },
    {
      "cell_type": "code",
      "source": [
        "model.compile(\n",
        "    optimizer='adam',\n",
        "    loss='categorical_crossentropy',\n",
        "    metrics=['accuracy']\n",
        ")"
      ],
      "metadata": {
        "id": "tOzjSXHAtYXP"
      },
      "execution_count": 108,
      "outputs": []
    },
    {
      "cell_type": "code",
      "source": [
        "model.summary()"
      ],
      "metadata": {
        "colab": {
          "base_uri": "https://localhost:8080/"
        },
        "id": "ThNfWdYnzg5L",
        "outputId": "17abea4d-baae-420b-f2a1-6c19da847e84"
      },
      "execution_count": 126,
      "outputs": [
        {
          "output_type": "stream",
          "name": "stdout",
          "text": [
            "Model: \"sequential_6\"\n",
            "_________________________________________________________________\n",
            " Layer (type)                Output Shape              Param #   \n",
            "=================================================================\n",
            " conv2d_12 (Conv2D)          (None, 26, 26, 32)        320       \n",
            "                                                                 \n",
            " max_pooling2d_12 (MaxPoolin  (None, 13, 13, 32)       0         \n",
            " g2D)                                                            \n",
            "                                                                 \n",
            " conv2d_13 (Conv2D)          (None, 11, 11, 64)        18496     \n",
            "                                                                 \n",
            " max_pooling2d_13 (MaxPoolin  (None, 5, 5, 64)         0         \n",
            " g2D)                                                            \n",
            "                                                                 \n",
            " flatten_6 (Flatten)         (None, 1600)              0         \n",
            "                                                                 \n",
            " batch_normalization_12 (Bat  (None, 1600)             6400      \n",
            " chNormalization)                                                \n",
            "                                                                 \n",
            " dense_12 (Dense)            (None, 256)               409856    \n",
            "                                                                 \n",
            " dropout_6 (Dropout)         (None, 256)               0         \n",
            "                                                                 \n",
            " batch_normalization_13 (Bat  (None, 256)              1024      \n",
            " chNormalization)                                                \n",
            "                                                                 \n",
            " dense_13 (Dense)            (None, 25)                6425      \n",
            "                                                                 \n",
            "=================================================================\n",
            "Total params: 442,521\n",
            "Trainable params: 438,809\n",
            "Non-trainable params: 3,712\n",
            "_________________________________________________________________\n"
          ]
        }
      ]
    },
    {
      "cell_type": "code",
      "source": [
        "model.fit(train, train_encoded, epochs=5, validation_data=(test, test_encoded))\n",
        "\n",
        "##convert the encodings th dtypunit8"
      ],
      "metadata": {
        "colab": {
          "base_uri": "https://localhost:8080/"
        },
        "id": "nSZyCsJ6txGN",
        "outputId": "a53e31a7-4c1c-4b36-8b98-1d07c50e73c5"
      },
      "execution_count": 109,
      "outputs": [
        {
          "output_type": "stream",
          "name": "stdout",
          "text": [
            "Epoch 1/5\n",
            "858/858 [==============================] - 39s 43ms/step - loss: 0.2408 - accuracy: 0.9400 - val_loss: 0.4310 - val_accuracy: 0.8788\n",
            "Epoch 2/5\n",
            "858/858 [==============================] - 35s 41ms/step - loss: 0.0171 - accuracy: 0.9979 - val_loss: 2.5152 - val_accuracy: 0.5102\n",
            "Epoch 3/5\n",
            "858/858 [==============================] - 37s 43ms/step - loss: 0.0505 - accuracy: 0.9856 - val_loss: 0.2562 - val_accuracy: 0.9456\n",
            "Epoch 4/5\n",
            "858/858 [==============================] - 36s 41ms/step - loss: 0.0030 - accuracy: 0.9999 - val_loss: 0.2723 - val_accuracy: 0.9331\n",
            "Epoch 5/5\n",
            "858/858 [==============================] - 34s 40ms/step - loss: 0.0394 - accuracy: 0.9886 - val_loss: 0.4376 - val_accuracy: 0.9117\n"
          ]
        },
        {
          "output_type": "execute_result",
          "data": {
            "text/plain": [
              "<keras.callbacks.History at 0x7b53f4f27f70>"
            ]
          },
          "metadata": {},
          "execution_count": 109
        }
      ]
    },
    {
      "cell_type": "code",
      "source": [
        "test_loss, test_acc = model.evaluate(test, test_encoded)\n",
        "print(f\"Test accuracy: {test_acc}\")"
      ],
      "metadata": {
        "colab": {
          "base_uri": "https://localhost:8080/"
        },
        "id": "9so9jm-bwJ9j",
        "outputId": "3da17953-d083-4adb-aa0c-ee73812212af"
      },
      "execution_count": 110,
      "outputs": [
        {
          "output_type": "stream",
          "name": "stdout",
          "text": [
            "225/225 [==============================] - 3s 14ms/step - loss: 0.4376 - accuracy: 0.9117\n",
            "Test accuracy: 0.9117401242256165\n"
          ]
        }
      ]
    },
    {
      "cell_type": "code",
      "source": [
        "model.save('/content/models/sign_model')"
      ],
      "metadata": {
        "colab": {
          "base_uri": "https://localhost:8080/"
        },
        "id": "AdKfO091thB6",
        "outputId": "cd80b8eb-21e8-4915-ee98-2b4951ea0e23"
      },
      "execution_count": 115,
      "outputs": [
        {
          "output_type": "stream",
          "name": "stderr",
          "text": [
            "WARNING:absl:Found untraced functions such as _jit_compiled_convolution_op, _jit_compiled_convolution_op, _update_step_xla while saving (showing 3 of 3). These functions will not be directly callable after loading.\n"
          ]
        }
      ]
    },
    {
      "cell_type": "code",
      "source": [
        "img = tf.keras.utils.load_img(\n",
        "    '/content/drive/MyDrive/Datasets/A.jpeg', target_size=(28, 28)\n",
        ")\n",
        "\n",
        "img_array = tf.keras.utils.img_to_array(img)\n",
        "img_array = tf.expand_dims(img_array, 0)\n",
        "\n",
        "gray_img_array = np.mean(img_array, axis=-1, keepdims=True)\n",
        "\n",
        "gray_img_array.shape\n",
        "\n",
        "predictions = model.predict(gray_img_array)\n",
        "score = tf.nn.softmax(predictions[0])\n",
        "\n",
        "predicted_class = np.argmax(predictions)\n",
        "\n",
        "predicted_class"
      ],
      "metadata": {
        "colab": {
          "base_uri": "https://localhost:8080/"
        },
        "id": "ymZ8zov_tUNR",
        "outputId": "55c1c872-6c8a-403f-92da-2ca313695d5d"
      },
      "execution_count": 141,
      "outputs": [
        {
          "output_type": "stream",
          "name": "stdout",
          "text": [
            "1/1 [==============================] - 0s 39ms/step\n"
          ]
        },
        {
          "output_type": "execute_result",
          "data": {
            "text/plain": [
              "6"
            ]
          },
          "metadata": {},
          "execution_count": 141
        }
      ]
    }
  ]
}